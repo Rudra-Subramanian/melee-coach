{
 "cells": [
  {
   "cell_type": "code",
   "execution_count": 24,
   "id": "e720504d",
   "metadata": {},
   "outputs": [],
   "source": [
    " import pandas as pd"
   ]
  },
  {
   "cell_type": "code",
   "execution_count": 25,
   "id": "ac68e906",
   "metadata": {
    "scrolled": false
   },
   "outputs": [],
   "source": [
    "attack_ids = pd.read_excel('Attack IDs.xlsx')"
   ]
  },
  {
   "cell_type": "code",
   "execution_count": 26,
   "id": "8a2dc6b5",
   "metadata": {},
   "outputs": [
    {
     "name": "stdout",
     "output_type": "stream",
     "text": [
      "['ID (Dec)', 'ID (Hex)', 'Name', 'Notes']\n"
     ]
    }
   ],
   "source": [
    "columns = []\n",
    "for col in attack_ids.columns:\n",
    "    columns.append(col)\n",
    "print(columns)"
   ]
  },
  {
   "cell_type": "code",
   "execution_count": 27,
   "id": "95b702a3",
   "metadata": {},
   "outputs": [],
   "source": [
    "attack_ids = attack_ids.drop(columns[1], axis = 1)\n",
    "attack_ids = attack_ids.drop(columns[3], axis = 1)\n",
    "attack_ids = attack_ids.drop(columns[0], axis = 1)"
   ]
  },
  {
   "cell_type": "code",
   "execution_count": 32,
   "id": "82a5c406",
   "metadata": {},
   "outputs": [
    {
     "data": {
      "text/plain": [
       "'Side Smash'"
      ]
     },
     "execution_count": 32,
     "metadata": {},
     "output_type": "execute_result"
    }
   ],
   "source": [
    "attacks = attack_ids[columns[2]].values.tolist()\n",
    "attacks[10]"
   ]
  },
  {
   "cell_type": "code",
   "execution_count": null,
   "id": "445b9553",
   "metadata": {},
   "outputs": [],
   "source": []
  }
 ],
 "metadata": {
  "kernelspec": {
   "display_name": "Python 3 (ipykernel)",
   "language": "python",
   "name": "python3"
  },
  "language_info": {
   "codemirror_mode": {
    "name": "ipython",
    "version": 3
   },
   "file_extension": ".py",
   "mimetype": "text/x-python",
   "name": "python",
   "nbconvert_exporter": "python",
   "pygments_lexer": "ipython3",
   "version": "3.10.6"
  }
 },
 "nbformat": 4,
 "nbformat_minor": 5
}
